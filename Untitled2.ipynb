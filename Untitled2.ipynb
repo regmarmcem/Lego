{
 "cells": [
  {
   "cell_type": "code",
   "execution_count": null,
   "metadata": {
    "collapsed": true
   },
   "outputs": [],
   "source": [
    "import cv2\n",
    "import numpy as np\n",
    "import copy\n",
    "import random\n",
    "import sys\n",
    "%matplotlib inline\n",
    "\n",
    "src = cv2.imread(\"empty.jpg\", cv2.IMREAD_COLOR)\n",
    "if src is None:\n",
    "    print(\"Failed to load image file.\")\n",
    "    sys.exit(1)\n",
    "\n",
    "height, width, channels = src.shape[:3]\n",
    "dst = copy.copy(src)\n",
    "gray = cv2.cvtColor(src, cv2.COLOR_BGR2GRAY)\n",
    "ret, binl = cv2.threshold(gray, 0, 255, cv2.THRESH_BINARY | cv2.THRESH_OTSU)\n",
    "nLabels, labelImage = cv2.connectedComponents(binl)\n",
    "\n",
    "colors = []\n",
    "for i in range(1, nLabels + 1):\n",
    "    colors.append(np.array([random.randint(0, 255), random.randint(0, 255), random.randint(0, 255)]))\n",
    "\n",
    "for y in range(0, height):\n",
    "    for x in range(0, width):\n",
    "        if labelImage[y, x] > 0:\n",
    "            dst[y, x] = colors[labelImage[y, x]]\n",
    "        else:\n",
    "            dst[y, x] = [0, 0, 0]\n",
    "\n",
    "cv2.namedWindow(\"Source\", cv2.WINDOW_AUTOSIZE)\n",
    "cv2.imshow(\"Source\", src)\n",
    "cv2.namedWindow(\"Connected Components\", cv2.WINDOW_AUTOSIZE)\n",
    "cv2.imshow(\"Connected Components\", dst)\n",
    "\n",
    "cv2.waitKey(0)\n",
    "cv2.destroyAllWindows()"
   ]
  }
 ],
 "metadata": {
  "kernelspec": {
   "display_name": "Python [Root]",
   "language": "python",
   "name": "Python [Root]"
  },
  "language_info": {
   "codemirror_mode": {
    "name": "ipython",
    "version": 3
   },
   "file_extension": ".py",
   "mimetype": "text/x-python",
   "name": "python",
   "nbconvert_exporter": "python",
   "pygments_lexer": "ipython3",
   "version": "3.5.0rc4"
  }
 },
 "nbformat": 4,
 "nbformat_minor": 0
}
